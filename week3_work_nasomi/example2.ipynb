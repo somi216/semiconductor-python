{
 "cells": [
  {
   "cell_type": "code",
   "execution_count": 1,
   "id": "05dce9d0-b471-474b-992b-cf01c0095e24",
   "metadata": {},
   "outputs": [],
   "source": [
    "import numpy as np"
   ]
  },
  {
   "cell_type": "code",
   "execution_count": 2,
   "id": "a0017928-99b8-4dde-970b-31e402c2e6d6",
   "metadata": {},
   "outputs": [],
   "source": [
    "N_d=1.00e17\n",
    "n_i=1.50e10\n",
    "E_g=1.1"
   ]
  },
  {
   "cell_type": "code",
   "execution_count": 3,
   "id": "ee6e060b-4a6b-45c2-bcfa-6beab805da2c",
   "metadata": {},
   "outputs": [],
   "source": [
    "n0=N_d\n",
    "p0=n_i**2/n0"
   ]
  },
  {
   "cell_type": "code",
   "execution_count": 4,
   "id": "8183d3a7-31a9-4182-8c71-f7d3f471f60f",
   "metadata": {},
   "outputs": [],
   "source": [
    "n=n0-p0"
   ]
  },
  {
   "cell_type": "code",
   "execution_count": 5,
   "id": "24f1d6df-e963-44bc-882e-f52ea6cb4ea7",
   "metadata": {},
   "outputs": [],
   "source": [
    "T=300\n",
    "k=8.617e-5"
   ]
  },
  {
   "cell_type": "code",
   "execution_count": 6,
   "id": "d7c72321-c428-4e6b-b11a-d7d16fea5b27",
   "metadata": {},
   "outputs": [],
   "source": [
    "E_f=k*T*np.log(n0/n_i)"
   ]
  },
  {
   "cell_type": "code",
   "execution_count": 7,
   "id": "90f61033-7a6e-4e96-bb96-7ea48be1f5a4",
   "metadata": {},
   "outputs": [
    {
     "name": "stdout",
     "output_type": "stream",
     "text": [
      "Carrier density is 1.00e+17cm^-3\n",
      "Fermi level is 0.406 eV\n"
     ]
    }
   ],
   "source": [
    "print(f\"Carrier density is {n:.2e}cm^-3\")\n",
    "print(f\"Fermi level is {E_f:.3f} eV\")"
   ]
  },
  {
   "cell_type": "code",
   "execution_count": null,
   "id": "e0a487d3-8095-4ee4-8d1b-99bd3b5cef4f",
   "metadata": {},
   "outputs": [],
   "source": []
  }
 ],
 "metadata": {
  "kernelspec": {
   "display_name": "Python 3 (ipykernel)",
   "language": "python",
   "name": "python3"
  },
  "language_info": {
   "codemirror_mode": {
    "name": "ipython",
    "version": 3
   },
   "file_extension": ".py",
   "mimetype": "text/x-python",
   "name": "python",
   "nbconvert_exporter": "python",
   "pygments_lexer": "ipython3",
   "version": "3.10.12"
  }
 },
 "nbformat": 4,
 "nbformat_minor": 5
}
