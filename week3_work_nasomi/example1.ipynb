{
 "cells": [
  {
   "cell_type": "code",
   "execution_count": 3,
   "id": "baff3baa-d4f0-4fa9-9881-3e756becb508",
   "metadata": {},
   "outputs": [
    {
     "name": "stdout",
     "output_type": "stream",
     "text": [
      "Defaulting to user installation because normal site-packages is not writeable\n",
      "Requirement already satisfied: numpy in ./.local/lib/python3.10/site-packages (2.2.3)\n",
      "\n",
      "\u001b[1m[\u001b[0m\u001b[34;49mnotice\u001b[0m\u001b[1;39;49m]\u001b[0m\u001b[39;49m A new release of pip is available: \u001b[0m\u001b[31;49m24.2\u001b[0m\u001b[39;49m -> \u001b[0m\u001b[32;49m25.0.1\u001b[0m\n",
      "\u001b[1m[\u001b[0m\u001b[34;49mnotice\u001b[0m\u001b[1;39;49m]\u001b[0m\u001b[39;49m To update, run: \u001b[0m\u001b[32;49mpython3 -m pip install --upgrade pip\u001b[0m\n"
     ]
    }
   ],
   "source": [
    "import sys\n",
    "!{sys.executable} -m pip install numpy"
   ]
  },
  {
   "cell_type": "code",
   "execution_count": 4,
   "id": "19227bdb-02d2-4b6b-a79e-a85d570a8bcb",
   "metadata": {},
   "outputs": [],
   "source": [
    "N_d=1.00e17\n",
    "N_a=1.00e18"
   ]
  },
  {
   "cell_type": "code",
   "execution_count": 5,
   "id": "1ba7b2e5-6963-40d3-98ad-51eee3e669b4",
   "metadata": {},
   "outputs": [],
   "source": [
    "n=N_a-N_d"
   ]
  },
  {
   "cell_type": "code",
   "execution_count": 6,
   "id": "4e292544-7f6e-4b99-9e64-33f66a870270",
   "metadata": {},
   "outputs": [
    {
     "name": "stdout",
     "output_type": "stream",
     "text": [
      "The carrier density in doped semiconductor is 9.00e+17cm^-3.\n"
     ]
    }
   ],
   "source": [
    "print(f\"The carrier density in doped semiconductor is {n:.2e}cm^-3.\")"
   ]
  },
  {
   "cell_type": "code",
   "execution_count": null,
   "id": "530143da-0fe0-4026-9a2f-4d210f7072a0",
   "metadata": {},
   "outputs": [],
   "source": []
  }
 ],
 "metadata": {
  "kernelspec": {
   "display_name": "Python 3 (ipykernel)",
   "language": "python",
   "name": "python3"
  },
  "language_info": {
   "codemirror_mode": {
    "name": "ipython",
    "version": 3
   },
   "file_extension": ".py",
   "mimetype": "text/x-python",
   "name": "python",
   "nbconvert_exporter": "python",
   "pygments_lexer": "ipython3",
   "version": "3.10.12"
  }
 },
 "nbformat": 4,
 "nbformat_minor": 5
}
