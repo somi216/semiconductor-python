{
 "cells": [
  {
   "cell_type": "code",
   "execution_count": null,
   "id": "0afe5efa-d03c-4d91-b555-bc013827a9ad",
   "metadata": {},
   "outputs": [],
   "source": [
    "import numpy as np"
   ]
  },
  {
   "cell_type": "code",
   "execution_count": null,
   "id": "245742f7-b1c5-4ef0-821d-3e47f03da63e",
   "metadata": {},
   "outputs": [],
   "source": [
    "k_B = 8.62 * 10**(-5) \n",
    "T = 300 "
   ]
  },
  {
   "cell_type": "code",
   "execution_count": null,
   "id": "4a339807-2258-4c7f-bdbd-818a92ff2940",
   "metadata": {},
   "outputs": [],
   "source": [
    "# Semiconductor properties (Si, Ge)\n",
    "semiconductors = {\n",
    "    \"Si\": {\"N_c\": 2.8 * 10**19, \"N_v\": 1.04 * 10**19, \"E_g\": 1.12},\n",
    "    \"Ge\": {\"N_c\": 1.02 * 10**19, \"N_v\": 6.0 * 10**18, \"E_g\": 0.66}\n",
    "}"
   ]
  },
  {
   "cell_type": "code",
   "execution_count": null,
   "id": "c9d8bf33-2242-467e-9d9b-a32fc922afb9",
   "metadata": {},
   "outputs": [],
   "source": [
    "def intrinsic_carrier_concentration(N_c, N_v, E_g, T):\n",
    "    \"\"\"\n",
    "    Calculate the intrinsic carrier concentration using the equation:\n",
    "        n_i = sqrt(N_c * N_v) * exp(-E_g / (2 * k_B * T))\n",
    "    \"\"\"\n",
    "    return np.sqrt(N_c * N_v) * np.exp(-E_g / (2 * (8.62 * 10**(-5)) * T))"
   ]
  },
  {
   "cell_type": "code",
   "execution_count": null,
   "id": "97f6053a-2d44-44b8-ac42-e95b4ac4496d",
   "metadata": {},
   "outputs": [],
   "source": [
    "# Compute intrinsic carrier concentration for each semiconductor\n",
    "carrier_concentrations = {}\n",
    "for material, props in semiconductors.items():\n",
    "    n_i = intrinsic_carrier_concentration(props[\"N_c\"], props[\"N_v\"], props[\"E_g\"], T)\n",
    "    carrier_concentrations[material] = n_i\n",
    "    print(f\"Intrinsic carrier concentration of {material} at {T}K: {n_i:.2e} cm^-3\")"
   ]
  }
 ],
 "metadata": {
  "kernelspec": {
   "display_name": "Python 3 (ipykernel)",
   "language": "python",
   "name": "python3"
  },
  "language_info": {
   "codemirror_mode": {
    "name": "ipython",
    "version": 3
   },
   "file_extension": ".py",
   "mimetype": "text/x-python",
   "name": "python",
   "nbconvert_exporter": "python",
   "pygments_lexer": "ipython3",
   "version": "3.10.12"
  }
 },
 "nbformat": 4,
 "nbformat_minor": 5
}
